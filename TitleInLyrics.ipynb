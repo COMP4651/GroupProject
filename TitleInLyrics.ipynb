{
 "cells": [
  {
   "cell_type": "code",
   "execution_count": 1,
   "metadata": {
    "collapsed": true,
    "deletable": true,
    "editable": true
   },
   "outputs": [],
   "source": [
    "from pyspark import SparkContext, SQLContext\n",
    "sc =SparkContext()"
   ]
  },
  {
   "cell_type": "code",
   "execution_count": 39,
   "metadata": {
    "collapsed": false,
    "deletable": true,
    "editable": true
   },
   "outputs": [
    {
     "name": "stdout",
     "output_type": "stream",
     "text": [
      "266556\n"
     ]
    }
   ],
   "source": [
    "import json\n",
    "import re\n",
    "\n",
    "split_regex = r'\\W+'\n",
    "\n",
    "def simpleTokenize(string):\n",
    "    \"\"\" A simple implementation of input string tokenization\n",
    "    Args:\n",
    "        string (str): input string\n",
    "    Returns:\n",
    "        list: a list of tokens\n",
    "    \"\"\"\n",
    "    return [x for x in re.split(split_regex,string.lower()) if x != '']\n",
    "\n",
    "dataRddString = sc.textFile(\"lyrics.json\")\n",
    "dataRdd = (dataRddString\n",
    "           .map(json.loads)\n",
    "           .filter(lambda x:(x.get('song') != None and x.get('lyrics') != None))\n",
    "           .map(lambda x:(x.get('song').split('-'), simpleTokenize(x.get('lyrics')))))\n",
    "print dataRdd.count()"
   ]
  },
  {
   "cell_type": "code",
   "execution_count": 63,
   "metadata": {
    "collapsed": true,
    "deletable": true,
    "editable": true
   },
   "outputs": [],
   "source": [
    "stopfile = \"data/stopwords.txt\"\n",
    "stopwords = set(sc.textFile(stopfile).collect())\n",
    "\n",
    "def tokenize(wordList):\n",
    "    return [x for x in wordList if x not in stopwords and len(x)>1]"
   ]
  },
  {
   "cell_type": "code",
   "execution_count": 64,
   "metadata": {
    "collapsed": false,
    "deletable": true,
    "editable": true
   },
   "outputs": [
    {
     "name": "stdout",
     "output_type": "stream",
     "text": [
      "260243\n"
     ]
    }
   ],
   "source": [
    "dataTokenize = (dataRdd\n",
    "                .map(lambda x: (tokenize(x[0]),tokenize(x[1]),len(x[1])))\n",
    "                .filter(lambda (x,y,z): (len(x) != 0 and len(y) != 0)))\n",
    "print dataTokenize.count()"
   ]
  },
  {
   "cell_type": "code",
   "execution_count": 65,
   "metadata": {
    "collapsed": false,
    "deletable": true,
    "editable": true
   },
   "outputs": [],
   "source": [
    "def countFrq(title, lyrics):\n",
    "    keyCount = {}\n",
    "    for key in title:\n",
    "        keyCount[key] = lyrics.count(key)\n",
    "    return keyCount"
   ]
  },
  {
   "cell_type": "code",
   "execution_count": 67,
   "metadata": {
    "collapsed": false,
    "deletable": true,
    "editable": true
   },
   "outputs": [
    {
     "name": "stdout",
     "output_type": "stream",
     "text": [
      "[({u'remix': 0, u'ego': 12}, 190, 472)]\n"
     ]
    }
   ],
   "source": [
    "titleFrq = dataTokenize.map(lambda (a,b,c): (countFrq(a,b),len(b),c))\n",
    "print titleFrq.take(1)"
   ]
  },
  {
   "cell_type": "code",
   "execution_count": 68,
   "metadata": {
    "collapsed": false,
    "deletable": true,
    "editable": true
   },
   "outputs": [
    {
     "name": "stdout",
     "output_type": "stream",
     "text": [
      "0.0898520147703 0.0463198813703\n"
     ]
    }
   ],
   "source": [
    "# compute the average frequency of titile word in lyrics\n",
    "allFrq = titleFrq.flatMap(lambda (a,b,c): a.values())\n",
    "allNum = titleFrq.map(lambda (a,b,c):b)\n",
    "allNum2= titleFrq.map(lambda (a,b,c):c)\n",
    "frqSum = allFrq.sum()\n",
    "numSum = allNum.sum()\n",
    "numSum2= allNum2.sum()\n",
    "aveFrq = float(frqSum)/numSum\n",
    "aveFrq2= float(frqSum)/numSum2\n",
    "print aveFrq, aveFrq2"
   ]
  },
  {
   "cell_type": "code",
   "execution_count": 69,
   "metadata": {
    "collapsed": true
   },
   "outputs": [],
   "source": [
    "def calFrq(titleDict, length):\n",
    "    for key in titleDict.keys():\n",
    "        titleDict[key] = float(titleDict[key])/length\n",
    "    return titleDict"
   ]
  },
  {
   "cell_type": "code",
   "execution_count": 70,
   "metadata": {
    "collapsed": false,
    "deletable": true,
    "editable": true
   },
   "outputs": [
    {
     "name": "stdout",
     "output_type": "stream",
     "text": [
      "[{u'remix': 0.0, u'ego': 0.025423728813559324}]\n"
     ]
    }
   ],
   "source": [
    "# compute the highest frequency word\n",
    "frqRdd = titleFrq.map(lambda (a,b,c): calFrq(a,c))\n",
    "print frqRdd.take(1)"
   ]
  },
  {
   "cell_type": "code",
   "execution_count": 71,
   "metadata": {
    "collapsed": false
   },
   "outputs": [],
   "source": [
    "def dictToLists(titleDict):\n",
    "    titleList = []\n",
    "    for key in titleDict.keys():\n",
    "        titleList.append((key,titleDict[key]))\n",
    "    return titleList"
   ]
  },
  {
   "cell_type": "code",
   "execution_count": 72,
   "metadata": {
    "collapsed": false
   },
   "outputs": [
    {
     "name": "stdout",
     "output_type": "stream",
     "text": [
      "[(u'mahna', 0.9473684210526315), (u'allein', 0.8947368421052632), (u'baby', 0.8918918918918919), (u'stickabush', 0.8888888888888888), (u'bot', 0.8461538461538461)]\n"
     ]
    }
   ],
   "source": [
    "frqRddList = frqRdd.flatMap(dictToLists).filter(lambda x: x[1] != 1.0)\n",
    "print frqRddList.takeOrdered(5, lambda x: -1*x[1])"
   ]
  },
  {
   "cell_type": "code",
   "execution_count": 73,
   "metadata": {
    "collapsed": false
   },
   "outputs": [
    {
     "name": "stdout",
     "output_type": "stream",
     "text": [
      "266556\n",
      "[(2009, [u'ego', u'remix'], [u'oh', u'baby', u'how', u'you', u'doing', u'you', u'know', u'i', u'm', u'gonna', u'cut', u'right', u'to', u'the', u'chase', u'some', u'women', u'were', u'made', u'but', u'me', u'myself', u'i', u'like', u'to', u'think', u'that', u'i', u'was', u'created', u'for', u'a', u'special', u'purpose', u'you', u'know', u'what', u's', u'more', u'special', u'than', u'you', u'you', u'feel', u'me', u'it', u's', u'on', u'baby', u'let', u's', u'get', u'lost', u'you', u'don', u't', u'need', u'to', u'call', u'into', u'work', u'cause', u'you', u're', u'the', u'boss', u'for', u'real', u'want', u'you', u'to', u'show', u'me', u'how', u'you', u'feel', u'i', u'consider', u'myself', u'lucky', u'that', u's', u'a', u'big', u'deal', u'why', u'well', u'you', u'got', u'the', u'key', u'to', u'my', u'heart', u'but', u'you', u'ain', u't', u'gonna', u'need', u'it', u'i', u'd', u'rather', u'you', u'open', u'up', u'my', u'body', u'and', u'show', u'me', u'secrets', u'you', u'didn', u't', u'know', u'was', u'inside', u'no', u'need', u'for', u'me', u'to', u'lie', u'it', u's', u'too', u'big', u'it', u's', u'too', u'wide', u'it', u's', u'too', u'strong', u'it', u'won', u't', u'fit', u'it', u's', u'too', u'much', u'it', u's', u'too', u'tough', u'he', u'talk', u'like', u'this', u'cause', u'he', u'can', u'back', u'it', u'up', u'he', u'got', u'a', u'big', u'ego', u'such', u'a', u'huge', u'ego', u'i', u'love', u'his', u'big', u'ego', u'it', u's', u'too', u'much', u'he', u'walk', u'like', u'this', u'cause', u'he', u'can', u'back', u'it', u'up', u'usually', u'i', u'm', u'humble', u'right', u'now', u'i', u'don', u't', u'choose', u'you', u'can', u'leave', u'with', u'me', u'or', u'you', u'could', u'have', u'the', u'blues', u'some', u'call', u'it', u'arrogant', u'i', u'call', u'it', u'confident', u'you', u'decide', u'when', u'you', u'find', u'on', u'what', u'i', u'm', u'working', u'with', u'damn', u'i', u'know', u'i', u'm', u'killing', u'you', u'with', u'them', u'legs', u'better', u'yet', u'them', u'thighs', u'matter', u'a', u'fact', u'it', u's', u'my', u'smile', u'or', u'maybe', u'my', u'eyes', u'boy', u'you', u'a', u'site', u'to', u'see', u'kind', u'of', u'something', u'like', u'me', u'it', u's', u'too', u'big', u'it', u's', u'too', u'wide', u'it', u's', u'too', u'strong', u'it', u'won', u't', u'fit', u'it', u's', u'too', u'much', u'it', u's', u'too', u'tough', u'i', u'talk', u'like', u'this', u'cause', u'i', u'can', u'back', u'it', u'up', u'i', u'got', u'a', u'big', u'ego', u'such', u'a', u'huge', u'ego', u'but', u'he', u'love', u'my', u'big', u'ego', u'it', u's', u'too', u'much', u'i', u'walk', u'like', u'this', u'cause', u'i', u'can', u'back', u'it', u'up', u'i', u'i', u'walk', u'like', u'this', u'cause', u'i', u'can', u'back', u'it', u'up', u'i', u'i', u'talk', u'like', u'this', u'cause', u'i', u'can', u'back', u'it', u'up', u'i', u'i', u'can', u'back', u'it', u'up', u'i', u'can', u'back', u'it', u'up', u'i', u'walk', u'like', u'this', u'cause', u'i', u'can', u'back', u'it', u'up', u'it', u's', u'too', u'big', u'it', u's', u'too', u'wide', u'it', u's', u'too', u'strong', u'it', u'won', u't', u'fit', u'it', u's', u'too', u'much', u'it', u's', u'too', u'tough', u'he', u'talk', u'like', u'this', u'cause', u'he', u'can', u'back', u'it', u'up', u'he', u'got', u'a', u'big', u'ego', u'such', u'a', u'huge', u'ego', u'such', u'a', u'huge', u'ego', u'i', u'love', u'his', u'big', u'ego', u'it', u's', u'too', u'much', u'he', u'walk', u'like', u'this', u'cause', u'he', u'can', u'back', u'it', u'up', u'ego', u'so', u'big', u'you', u'must', u'admit', u'i', u'got', u'every', u'reason', u'to', u'feel', u'like', u'i', u'm', u'that', u'bitch', u'ego', u'so', u'strong', u'if', u'you', u'ain', u't', u'know', u'i', u'don', u't', u'need', u'no', u'beat', u'i', u'can', u'sing', u'it', u'with', u'piano'])]\n"
     ]
    }
   ],
   "source": [
    "dataRddYear = (dataRddString\n",
    "               .map(json.loads)\n",
    "               .filter(lambda x:(x.get('song') != None and x.get('lyrics') != None and x.get('year') != None))\n",
    "               .map(lambda x:(x.get('year'), x.get('song').split('-'), simpleTokenize(x.get('lyrics')))))\n",
    "print dataRddYear.count()\n",
    "print dataRddYear.take(1)"
   ]
  },
  {
   "cell_type": "code",
   "execution_count": 113,
   "metadata": {
    "collapsed": false
   },
   "outputs": [
    {
     "name": "stdout",
     "output_type": "stream",
     "text": [
      "260237\n"
     ]
    }
   ],
   "source": [
    "dataTokenizeYear = (dataRddYear\n",
    "                    .map(lambda x: (x[0],tokenize(x[1]),tokenize(x[2]),len(x[2])))\n",
    "                    .filter(lambda (x,y,z,t): (x > 1900 and len(y) != 0 and len(z) != 0)))\n",
    "print dataTokenizeYear.count()"
   ]
  },
  {
   "cell_type": "code",
   "execution_count": 114,
   "metadata": {
    "collapsed": false
   },
   "outputs": [
    {
     "name": "stdout",
     "output_type": "stream",
     "text": [
      "[(1968, {u'without': 3}, 51, 121)]\n"
     ]
    }
   ],
   "source": [
    "titleFrqYear = dataTokenizeYear.map(lambda (a,b,c,d): (a,countFrq(b,c),len(c),d))\n",
    "print titleFrqYear.takeOrdered(1)"
   ]
  },
  {
   "cell_type": "code",
   "execution_count": 115,
   "metadata": {
    "collapsed": false,
    "scrolled": true
   },
   "outputs": [
    {
     "name": "stdout",
     "output_type": "stream",
     "text": [
      "48\n"
     ]
    }
   ],
   "source": [
    "frqRddYear = (titleFrqYear\n",
    "              .map(lambda (a,b,c,d): (a,(sum(b.values()),c,d)))\n",
    "              .reduceByKey(lambda (a,b,c),(x,y,z):(a+x,b+y,c+z)))\n",
    "print frqRddYear.count()"
   ]
  },
  {
   "cell_type": "code",
   "execution_count": 116,
   "metadata": {
    "collapsed": false,
    "scrolled": true
   },
   "outputs": [
    {
     "name": "stdout",
     "output_type": "stream",
     "text": [
      "[(1968, (0.058823529411764705, 0.024793388429752067)), (1970, (0.1264075803350728, 0.06329287998074741)), (1971, (0.10668085344682758, 0.052066251229911445)), (1972, (0.11179993695492277, 0.05623975897246155)), (1973, (0.1298293867377197, 0.06392568454018367)), (1974, (0.09610011641443539, 0.047909230724587214)), (1975, (0.11568417837507636, 0.05709010061423673)), (1976, (0.1034706454751865, 0.054381179679509034)), (1977, (0.13050284448856478, 0.0655015139320072)), (1978, (0.1281437125748503, 0.06321602876958644)), (1979, (0.1362772335136716, 0.06825838582100484)), (1980, (0.15739745656457102, 0.07767955801104973)), (1981, (0.14216222125054656, 0.07264957264957266)), (1982, (0.13579114993002944, 0.06763447579676009)), (1983, (0.1290603248259861, 0.06515611845235916)), (1984, (0.13855196366550895, 0.06748737702358024)), (1985, (0.14489311163895488, 0.07223422836673674)), (1986, (0.14307733191602445, 0.0713074803983895)), (1987, (0.11404081632653061, 0.05685564283097961)), (1988, (0.12171070261000054, 0.0646474422841527)), (1989, (0.09966626705116159, 0.05376494441725512)), (1990, (0.11326256101293555, 0.05557773254550125)), (1991, (0.13202182935198195, 0.06904566584632212)), (1992, (0.13273401786830807, 0.06739139636271287)), (1993, (0.12398460880718255, 0.0622122905027933)), (1994, (0.11103320332471478, 0.055865059532559165)), (1995, (0.11280263922226241, 0.05757246903773648)), (1996, (0.10020249982543118, 0.05069148842220535)), (1997, (0.10497005618324382, 0.05381401531936444)), (1998, (0.09903182068556417, 0.051978450264923856)), (1999, (0.0917781245659474, 0.04657478584637328)), (2000, (0.09448769065249035, 0.0473580702916837)), (2001, (0.10363081617086194, 0.049942286625936465)), (2002, (0.08655662899718371, 0.04236248890838576)), (2003, (0.09700054480518171, 0.046185255016873025)), (2004, (0.08335671072201727, 0.042836451171994534)), (2005, (0.08721757648158729, 0.04311603568011147)), (2006, (0.0892053324593642, 0.04664435471104617)), (2007, (0.08261979868456347, 0.04173128578348794)), (2008, (0.10355939302383713, 0.05193044192031143)), (2009, (0.08878739716894651, 0.04522702963714828)), (2010, (0.08452095565843282, 0.04272830481442804)), (2011, (0.08720413446555016, 0.04566786275078848)), (2012, (0.08774894467748214, 0.045201130379532536)), (2013, (0.09031437279165207, 0.04757837197298646)), (2014, (0.09461245820781405, 0.049786156374678474)), (2015, (0.09303513992845763, 0.04962888103843823)), (2016, (0.08500605010802648, 0.045863815134448316))]\n"
     ]
    }
   ],
   "source": [
    "aveFrqRddYear = frqRddYear.map(lambda (a,b):(a,(float(b[0])/b[1],float(b[0])/b[2]))).sortByKey()\n",
    "print aveFrqRddYear.collect()"
   ]
  },
  {
   "cell_type": "code",
   "execution_count": 117,
   "metadata": {
    "collapsed": true
   },
   "outputs": [],
   "source": [
    "years = aveFrqRddYear.map(lambda (a,b):a).collect()\n",
    "keyFrq = aveFrqRddYear.map(lambda (a,b):b[0]).collect()\n",
    "totalFrq = aveFrqRddYear.map(lambda (a,b):b[1]).collect()"
   ]
  },
  {
   "cell_type": "code",
   "execution_count": 138,
   "metadata": {
    "collapsed": false
   },
   "outputs": [
    {
     "data": {
      "image/png": "[encoded data removed]",
      "text/plain": [
       "<matplotlib.figure.Figure at 0x5a8fc50>"
      ]
     },
     "metadata": {},
     "output_type": "display_data"
    }
   ],
   "source": [
    "import matplotlib.pyplot as plt\n",
    "\n",
    "fig = plt.figure(figsize=(8,4.5), facecolor='white', edgecolor='white')\n",
    "plt.axis([min(years), max(years), 0, max(keyFrq)+0.02])\n",
    "plt.grid(b=True, which='major', axis='y')\n",
    "plt.xlabel('Years')\n",
    "plt.ylabel('Frequencies')\n",
    "plt.plot(years, keyFrq, label='lyrics w/o stopwords')\n",
    "plt.plot(years, totalFrq, label='whole lyrics')\n",
    "plt.title('Frequency of title words in lyrics')\n",
    "plt.legend()\n",
    "plt.show()\n",
    "pass"
   ]
  },
  {
   "cell_type": "code",
   "execution_count": 119,
   "metadata": {
    "collapsed": false
   },
   "outputs": [
    {
     "name": "stdout",
     "output_type": "stream",
     "text": [
      "266556\n",
      "[(u'Pop', [u'ego', u'remix'], [u'oh', u'baby', u'how', u'you', u'doing', u'you', u'know', u'i', u'm', u'gonna', u'cut', u'right', u'to', u'the', u'chase', u'some', u'women', u'were', u'made', u'but', u'me', u'myself', u'i', u'like', u'to', u'think', u'that', u'i', u'was', u'created', u'for', u'a', u'special', u'purpose', u'you', u'know', u'what', u's', u'more', u'special', u'than', u'you', u'you', u'feel', u'me', u'it', u's', u'on', u'baby', u'let', u's', u'get', u'lost', u'you', u'don', u't', u'need', u'to', u'call', u'into', u'work', u'cause', u'you', u're', u'the', u'boss', u'for', u'real', u'want', u'you', u'to', u'show', u'me', u'how', u'you', u'feel', u'i', u'consider', u'myself', u'lucky', u'that', u's', u'a', u'big', u'deal', u'why', u'well', u'you', u'got', u'the', u'key', u'to', u'my', u'heart', u'but', u'you', u'ain', u't', u'gonna', u'need', u'it', u'i', u'd', u'rather', u'you', u'open', u'up', u'my', u'body', u'and', u'show', u'me', u'secrets', u'you', u'didn', u't', u'know', u'was', u'inside', u'no', u'need', u'for', u'me', u'to', u'lie', u'it', u's', u'too', u'big', u'it', u's', u'too', u'wide', u'it', u's', u'too', u'strong', u'it', u'won', u't', u'fit', u'it', u's', u'too', u'much', u'it', u's', u'too', u'tough', u'he', u'talk', u'like', u'this', u'cause', u'he', u'can', u'back', u'it', u'up', u'he', u'got', u'a', u'big', u'ego', u'such', u'a', u'huge', u'ego', u'i', u'love', u'his', u'big', u'ego', u'it', u's', u'too', u'much', u'he', u'walk', u'like', u'this', u'cause', u'he', u'can', u'back', u'it', u'up', u'usually', u'i', u'm', u'humble', u'right', u'now', u'i', u'don', u't', u'choose', u'you', u'can', u'leave', u'with', u'me', u'or', u'you', u'could', u'have', u'the', u'blues', u'some', u'call', u'it', u'arrogant', u'i', u'call', u'it', u'confident', u'you', u'decide', u'when', u'you', u'find', u'on', u'what', u'i', u'm', u'working', u'with', u'damn', u'i', u'know', u'i', u'm', u'killing', u'you', u'with', u'them', u'legs', u'better', u'yet', u'them', u'thighs', u'matter', u'a', u'fact', u'it', u's', u'my', u'smile', u'or', u'maybe', u'my', u'eyes', u'boy', u'you', u'a', u'site', u'to', u'see', u'kind', u'of', u'something', u'like', u'me', u'it', u's', u'too', u'big', u'it', u's', u'too', u'wide', u'it', u's', u'too', u'strong', u'it', u'won', u't', u'fit', u'it', u's', u'too', u'much', u'it', u's', u'too', u'tough', u'i', u'talk', u'like', u'this', u'cause', u'i', u'can', u'back', u'it', u'up', u'i', u'got', u'a', u'big', u'ego', u'such', u'a', u'huge', u'ego', u'but', u'he', u'love', u'my', u'big', u'ego', u'it', u's', u'too', u'much', u'i', u'walk', u'like', u'this', u'cause', u'i', u'can', u'back', u'it', u'up', u'i', u'i', u'walk', u'like', u'this', u'cause', u'i', u'can', u'back', u'it', u'up', u'i', u'i', u'talk', u'like', u'this', u'cause', u'i', u'can', u'back', u'it', u'up', u'i', u'i', u'can', u'back', u'it', u'up', u'i', u'can', u'back', u'it', u'up', u'i', u'walk', u'like', u'this', u'cause', u'i', u'can', u'back', u'it', u'up', u'it', u's', u'too', u'big', u'it', u's', u'too', u'wide', u'it', u's', u'too', u'strong', u'it', u'won', u't', u'fit', u'it', u's', u'too', u'much', u'it', u's', u'too', u'tough', u'he', u'talk', u'like', u'this', u'cause', u'he', u'can', u'back', u'it', u'up', u'he', u'got', u'a', u'big', u'ego', u'such', u'a', u'huge', u'ego', u'such', u'a', u'huge', u'ego', u'i', u'love', u'his', u'big', u'ego', u'it', u's', u'too', u'much', u'he', u'walk', u'like', u'this', u'cause', u'he', u'can', u'back', u'it', u'up', u'ego', u'so', u'big', u'you', u'must', u'admit', u'i', u'got', u'every', u'reason', u'to', u'feel', u'like', u'i', u'm', u'that', u'bitch', u'ego', u'so', u'strong', u'if', u'you', u'ain', u't', u'know', u'i', u'don', u't', u'need', u'no', u'beat', u'i', u'can', u'sing', u'it', u'with', u'piano'])]\n"
     ]
    }
   ],
   "source": [
    "dataRddGenre = (dataRddString\n",
    "               .map(json.loads)\n",
    "               .filter(lambda x:(x.get('song') != None and x.get('lyrics') != None and x.get('genre') != None))\n",
    "               .map(lambda x:(x.get('genre'), x.get('song').split('-'), simpleTokenize(x.get('lyrics')))))\n",
    "print dataRddGenre.count()\n",
    "print dataRddGenre.take(1)"
   ]
  },
  {
   "cell_type": "code",
   "execution_count": 121,
   "metadata": {
    "collapsed": false
   },
   "outputs": [
    {
     "name": "stdout",
     "output_type": "stream",
     "text": [
      "260243\n"
     ]
    }
   ],
   "source": [
    "dataTokenizeGenre = (dataRddGenre\n",
    "                    .map(lambda x: (x[0],tokenize(x[1]),tokenize(x[2]),len(x[2])))\n",
    "                    .filter(lambda (x,y,z,t): (len(x) != 0 and len(y) != 0 and len(z) != 0)))\n",
    "print dataTokenizeGenre.count()"
   ]
  },
  {
   "cell_type": "code",
   "execution_count": 123,
   "metadata": {
    "collapsed": false
   },
   "outputs": [
    {
     "name": "stdout",
     "output_type": "stream",
     "text": [
      "[(u'Pop', {u'remix': 0, u'ego': 12}, 190, 472)]\n"
     ]
    }
   ],
   "source": [
    "titleFrqGenre = dataTokenizeGenre.map(lambda (a,b,c,d): (a,countFrq(b,c),len(c),d))\n",
    "print titleFrqGenre.take(1)"
   ]
  },
  {
   "cell_type": "code",
   "execution_count": 124,
   "metadata": {
    "collapsed": false
   },
   "outputs": [
    {
     "name": "stdout",
     "output_type": "stream",
     "text": [
      "12\n"
     ]
    }
   ],
   "source": [
    "frqRddGenre = (titleFrqGenre\n",
    "              .map(lambda (a,b,c,d): (a,(sum(b.values()),c,d)))\n",
    "              .reduceByKey(lambda (a,b,c),(x,y,z):(a+x,b+y,c+z)))\n",
    "print frqRddGenre.count()"
   ]
  },
  {
   "cell_type": "code",
   "execution_count": 126,
   "metadata": {
    "collapsed": false
   },
   "outputs": [
    {
     "name": "stdout",
     "output_type": "stream",
     "text": [
      "[(u'Hip-Hop', (0.05473397631532222, 0.029396803629399917)), (u'Other', (0.08801796094254075, 0.050319336174658905)), (u'Pop', (0.10855234126590411, 0.05608724113445815)), (u'Indie', (0.07837936859443037, 0.03772813394470786)), (u'Country', (0.13151402847048807, 0.06268913068626353)), (u'Electronic', (0.10615545800105636, 0.054073842109673746)), (u'Metal', (0.05692890275204015, 0.030202603729167027)), (u'Rock', (0.0969206141102427, 0.04794580099532924)), (u'Not Available', (0.09760563889742944, 0.05443563326258438)), (u'Jazz', (0.13731081591494781, 0.06945867230501211)), (u'R&B', (0.12416102911984994, 0.05865715040972773)), (u'Folk', (0.08704243113155605, 0.04684960709710724))]\n"
     ]
    }
   ],
   "source": [
    "aveFrqRddGenre = frqRddGenre.map(lambda (a,b):(a,(float(b[0])/b[1],float(b[0])/b[2])))\n",
    "print aveFrqRddGenre.collect()"
   ]
  },
  {
   "cell_type": "code",
   "execution_count": 127,
   "metadata": {
    "collapsed": true
   },
   "outputs": [],
   "source": [
    "Genre = aveFrqRddGenre.map(lambda (a,b):a).collect()\n",
    "keyFrq_g = aveFrqRddGenre.map(lambda (a,b):b[0]).collect()\n",
    "totalFrq_g = aveFrqRddGenre.map(lambda (a,b):b[1]).collect()"
   ]
  },
  {
   "cell_type": "code",
   "execution_count": 139,
   "metadata": {
    "collapsed": false
   },
   "outputs": [
    {
     "data": {
      "image/png": "[encoded data removed]",
      "text/plain": [
       "<matplotlib.figure.Figure at 0x44e23d0>"
      ]
     },
     "metadata": {},
     "output_type": "display_data"
    }
   ],
   "source": [
    "fig = plt.figure(figsize=(13,6), facecolor='white', edgecolor='white')\n",
    "#plt.axis([min(years), max(years), 0, max(keyFrq)+0.02])\n",
    "plt.grid(b=True, which='major', axis='y')\n",
    "barWidth = 0.4\n",
    "plt.xlabel('Genre')\n",
    "plt.ylabel('Frequencies')\n",
    "x = range(len(Genre))\n",
    "plt.bar(x, keyFrq_g, barWidth, color='b',tick_label = Genre, label = 'lyrics w/o stopwords')\n",
    "for i in x:\n",
    "    x[i] = x[i] + barWidth\n",
    "plt.bar(x, totalFrq_g, barWidth, color='g',tick_label = Genre, label = 'whole lyrics')\n",
    "plt.title('Frequency of title words in lyrics')\n",
    "plt.legend()\n",
    "plt.show()\n",
    "pass"
   ]
  },
  {
   "cell_type": "code",
   "execution_count": null,
   "metadata": {
    "collapsed": true
   },
   "outputs": [],
   "source": []
  }
 ],
 "metadata": {
  "kernelspec": {
   "display_name": "Python 2",
   "language": "python",
   "name": "python2"
  },
  "language_info": {
   "codemirror_mode": {
    "name": "ipython",
    "version": 2
   },
   "file_extension": ".py",
   "mimetype": "text/x-python",
   "name": "python",
   "nbconvert_exporter": "python",
   "pygments_lexer": "ipython2",
   "version": "2.7.5"
  }
 },
 "nbformat": 4,
 "nbformat_minor": 2
}
