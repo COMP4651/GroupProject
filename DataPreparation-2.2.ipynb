{
 "cells": [
  {
   "cell_type": "markdown",
   "metadata": {},
   "source": [
    "# DataPreparation-2.2 (for Spark 2.2)\n",
    "# Spark 2.2 \"seems\" to abandom spark context, and switch to spark session\n",
    "\n",
    "### WARNING!! This notebook will take up at least 6GB memory. \n",
    "### Kung-hsiang, Huang 11/25/2017\n",
    "\n",
    "This notebook will store a dataframe containing key name **index** and tf-idfed **song** in parquet. "
   ]
  },
  {
   "cell_type": "code",
   "execution_count": 1,
   "metadata": {
    "scrolled": true
   },
   "outputs": [],
   "source": [
    "from pyspark.sql.types import StringType\n",
    "from pyspark import SQLContext, SparkContext\n",
    "from collections import namedtuple\n",
    "from pyspark.sql import functions as F\n",
    "from pyspark.sql.functions import col, udf\n",
    "from pyspark.sql.types import IntegerType\n",
    "import re\n",
    "from pyspark.sql import SparkSession\n",
    "\n",
    "spark = SparkSession \\\n",
    "    .builder \\\n",
    "    .appName(\"COMP 4651\") \\\n",
    "    .getOrCreate()\n"
   ]
  },
  {
   "cell_type": "code",
   "execution_count": 2,
   "metadata": {},
   "outputs": [
    {
     "name": "stdout",
     "output_type": "stream",
     "text": [
      "+---------------+-----+-----+--------------------+--------------------+----+\n",
      "|         artist|genre|index|              lyrics|                song|year|\n",
      "+---------------+-----+-----+--------------------+--------------------+----+\n",
      "|beyonce-knowles|  Pop|    0|Oh baby, how you ...|           ego-remix|2009|\n",
      "|beyonce-knowles|  Pop|    1|playin' everythin...|        then-tell-me|2009|\n",
      "|beyonce-knowles|  Pop|    2|If you search\n",
      "For...|             honesty|2009|\n",
      "|beyonce-knowles|  Pop|    3|Oh oh oh I, oh oh...|     you-are-my-rock|2009|\n",
      "|beyonce-knowles|  Pop|    4|Party the people,...|       black-culture|2009|\n",
      "|beyonce-knowles|  Pop|    5|I heard\n",
      "Church be...|all-i-could-do-wa...|2009|\n",
      "|beyonce-knowles|  Pop|    6|This is just anot...|  once-in-a-lifetime|2009|\n",
      "|beyonce-knowles|  Pop|    7|Waiting, waiting,...|             waiting|2009|\n",
      "|beyonce-knowles|  Pop|    8|[Verse 1:]\n",
      "I read...|           slow-love|2009|\n",
      "|beyonce-knowles|  Pop|    9|N-n-now, honey\n",
      "Yo...|why-don-t-you-lov...|2009|\n",
      "|beyonce-knowles|  Pop|   10|I lay alone awake...|       save-the-hero|2009|\n",
      "|beyonce-knowles|  Pop|   11|Hello hello baby ...|           telephone|2009|\n",
      "|beyonce-knowles|  Pop|   12|Feels like I'm lo...|     ice-cream-truck|2009|\n",
      "|beyonce-knowles|  Pop|   13|Youre everything ...|no-broken-hearted...|2009|\n",
      "|beyonce-knowles|  Pop|   14|I gotta give up\n",
      "t...|             control|2009|\n",
      "|beyonce-knowles|  Pop|   15|It really hurts t...|       i-m-alone-now|2009|\n",
      "|beyonce-knowles|  Pop|   16|You're bad for me...|              poison|2009|\n",
      "|beyonce-knowles|  Pop|   17|[Chorus:]\n",
      "I'm a w...|    world-wide-women|2007|\n",
      "|beyonce-knowles|  Pop|   18|Ay\n",
      "Ay\n",
      "Ay (Nobody ...|      beautiful-liar|2007|\n",
      "|beyonce-knowles|  Pop|   19|Ay! Ay!\n",
      "(Nobody l...|beautiful-liar-sp...|2007|\n",
      "+---------------+-----+-----+--------------------+--------------------+----+\n",
      "only showing top 20 rows\n",
      "\n"
     ]
    }
   ],
   "source": [
    "# sqlContext = SQLContext(sc)\n",
    "\n",
    "\n",
    "\n",
    "#compute the length of song\n",
    "size_ = udf(lambda xs: len(xs), IntegerType())\n",
    "\n",
    "#filter out null song value  note: filter == where, dunno why do they create two functions...\n",
    "raw_df = spark.read.json(\"data/lyrics.json\").where( (col('lyrics')).isNotNull() ).filter(size_(col('lyrics')) >0)\n",
    "\n",
    "# .na.drop(subset=[\"\"])\n",
    "# raw_df.select(raw_df['lyrics'], F.where((raw_df['index'] == 160))).show()\n",
    "raw_df\n",
    "raw_df.show()"
   ]
  },
  {
   "cell_type": "code",
   "execution_count": 3,
   "metadata": {},
   "outputs": [],
   "source": [
    "STOPWORDS_PATH = 'data/stopwords.txt'\n",
    "stopwords = set(spark.read.text(STOPWORDS_PATH).rdd.map(lambda x: x.value).collect())"
   ]
  },
  {
   "cell_type": "code",
   "execution_count": 4,
   "metadata": {
    "collapsed": true
   },
   "outputs": [],
   "source": [
    "split_regex = r'\\W+'\n",
    "def tokenize(string):\n",
    "    \"\"\" An implementation of input string tokenization that excludes stopwords\n",
    "    Args:\n",
    "        string (str): input string\n",
    "    Returns:\n",
    "        list: a list of tokens without stopwords\n",
    "    \"\"\"\n",
    "    \n",
    "    regexed = [ token.lower() for token in re.split(split_regex, string) if len(token)]\n",
    "    return  [token for token in regexed if token not in stopwords]#get rid of empty stuff"
   ]
  },
  {
   "cell_type": "code",
   "execution_count": 5,
   "metadata": {
    "collapsed": true
   },
   "outputs": [],
   "source": [
    "def tf(tokens):\n",
    "    \"\"\" Compute TF\n",
    "    Args:\n",
    "        tokens (list of str): input list of tokens from tokenize\n",
    "    Returns:\n",
    "        dictionary: a dictionary of tokens to its TF values\n",
    "    \"\"\"\n",
    "    result = {}\n",
    "    for token in tokens:\n",
    "        if token not in result:\n",
    "            result[token] = 1\n",
    "        else:\n",
    "            result[token] += 1\n",
    "    for key in result:\n",
    "        result[key] /= float(len(tokens))\n",
    "    return result"
   ]
  },
  {
   "cell_type": "code",
   "execution_count": 6,
   "metadata": {
    "collapsed": true
   },
   "outputs": [],
   "source": [
    "def idfs(corpus):\n",
    "    \"\"\" Compute IDF\n",
    "    Args:\n",
    "        corpus (RDD): input corpus\n",
    "    Returns:\n",
    "        RDD: a RDD of (token, IDF value)\n",
    "    \"\"\"\n",
    "    N = corpus.map(lambda x:  1).reduce(lambda a,b: a+b) + 0.0\n",
    "    uniqueTokens = corpus.flatMap(lambda x: [(x[1][i], x[0]) for i in range(len(x[1]))])\n",
    "    tokenCountPairTuple = uniqueTokens.groupByKey().mapValues(lambda x: list(set(x))).mapValues(lambda x: len(x))\n",
    "    tokenSumPairTuple = tokenCountPairTuple.reduceByKey(lambda a,b: a+b).mapValues(lambda x: N/x)\n",
    "    return (tokenSumPairTuple)"
   ]
  },
  {
   "cell_type": "code",
   "execution_count": 7,
   "metadata": {
    "collapsed": true
   },
   "outputs": [],
   "source": [
    "def tfidf(tokens, idfs):\n",
    "    \"\"\" Compute TF-IDF\n",
    "    Args:\n",
    "        tokens (list of str): input list of tokens from tokenize\n",
    "        idfs (dictionary): record to IDF value\n",
    "    Returns:\n",
    "        dictionary: a dictionary of records to TF-IDF values\n",
    "    \"\"\"\n",
    "    # tf returns a dictionary of token to its tf\n",
    "    tfs = tf(tokens)\n",
    "    #multiply the two dictionaries\n",
    "    tfIdfDict = dict((k, v * idfs[k]) for k, v in tfs.items() if k in idfs)\n",
    "    return tfIdfDict"
   ]
  },
  {
   "cell_type": "code",
   "execution_count": 8,
   "metadata": {},
   "outputs": [
    {
     "data": {
      "text/plain": [
       "[(0,\n",
       "  [u'oh',\n",
       "   u'baby',\n",
       "   u'know',\n",
       "   u'm',\n",
       "   u'gonna',\n",
       "   u'cut',\n",
       "   u'right',\n",
       "   u'chase',\n",
       "   u'women',\n",
       "   u'made',\n",
       "   u'like',\n",
       "   u'think',\n",
       "   u'created',\n",
       "   u'special',\n",
       "   u'purpose',\n",
       "   u'know',\n",
       "   u'special',\n",
       "   u'feel',\n",
       "   u'baby',\n",
       "   u'let',\n",
       "   u'get',\n",
       "   u'lost',\n",
       "   u'need',\n",
       "   u'call',\n",
       "   u'work',\n",
       "   u'cause',\n",
       "   u're',\n",
       "   u'boss',\n",
       "   u'real',\n",
       "   u'want',\n",
       "   u'show',\n",
       "   u'feel',\n",
       "   u'consider',\n",
       "   u'lucky',\n",
       "   u'big',\n",
       "   u'deal',\n",
       "   u'well',\n",
       "   u'got',\n",
       "   u'key',\n",
       "   u'heart',\n",
       "   u'ain',\n",
       "   u'gonna',\n",
       "   u'need',\n",
       "   u'd',\n",
       "   u'rather',\n",
       "   u'open',\n",
       "   u'body',\n",
       "   u'show',\n",
       "   u'secrets',\n",
       "   u'didn',\n",
       "   u'know',\n",
       "   u'inside',\n",
       "   u'need',\n",
       "   u'lie',\n",
       "   u'big',\n",
       "   u'wide',\n",
       "   u'strong',\n",
       "   u'won',\n",
       "   u'fit',\n",
       "   u'much',\n",
       "   u'tough',\n",
       "   u'talk',\n",
       "   u'like',\n",
       "   u'cause',\n",
       "   u'back',\n",
       "   u'got',\n",
       "   u'big',\n",
       "   u'ego',\n",
       "   u'huge',\n",
       "   u'ego',\n",
       "   u'love',\n",
       "   u'big',\n",
       "   u'ego',\n",
       "   u'much',\n",
       "   u'walk',\n",
       "   u'like',\n",
       "   u'cause',\n",
       "   u'back',\n",
       "   u'usually',\n",
       "   u'm',\n",
       "   u'humble',\n",
       "   u'right',\n",
       "   u'choose',\n",
       "   u'leave',\n",
       "   u'could',\n",
       "   u'blues',\n",
       "   u'call',\n",
       "   u'arrogant',\n",
       "   u'call',\n",
       "   u'confident',\n",
       "   u'decide',\n",
       "   u'find',\n",
       "   u'm',\n",
       "   u'working',\n",
       "   u'damn',\n",
       "   u'know',\n",
       "   u'm',\n",
       "   u'killing',\n",
       "   u'legs',\n",
       "   u'better',\n",
       "   u'yet',\n",
       "   u'thighs',\n",
       "   u'matter',\n",
       "   u'fact',\n",
       "   u'smile',\n",
       "   u'maybe',\n",
       "   u'eyes',\n",
       "   u'boy',\n",
       "   u'site',\n",
       "   u'see',\n",
       "   u'kind',\n",
       "   u'something',\n",
       "   u'like',\n",
       "   u'big',\n",
       "   u'wide',\n",
       "   u'strong',\n",
       "   u'won',\n",
       "   u'fit',\n",
       "   u'much',\n",
       "   u'tough',\n",
       "   u'talk',\n",
       "   u'like',\n",
       "   u'cause',\n",
       "   u'back',\n",
       "   u'got',\n",
       "   u'big',\n",
       "   u'ego',\n",
       "   u'huge',\n",
       "   u'ego',\n",
       "   u'love',\n",
       "   u'big',\n",
       "   u'ego',\n",
       "   u'much',\n",
       "   u'walk',\n",
       "   u'like',\n",
       "   u'cause',\n",
       "   u'back',\n",
       "   u'walk',\n",
       "   u'like',\n",
       "   u'cause',\n",
       "   u'back',\n",
       "   u'talk',\n",
       "   u'like',\n",
       "   u'cause',\n",
       "   u'back',\n",
       "   u'back',\n",
       "   u'back',\n",
       "   u'walk',\n",
       "   u'like',\n",
       "   u'cause',\n",
       "   u'back',\n",
       "   u'big',\n",
       "   u'wide',\n",
       "   u'strong',\n",
       "   u'won',\n",
       "   u'fit',\n",
       "   u'much',\n",
       "   u'tough',\n",
       "   u'talk',\n",
       "   u'like',\n",
       "   u'cause',\n",
       "   u'back',\n",
       "   u'got',\n",
       "   u'big',\n",
       "   u'ego',\n",
       "   u'huge',\n",
       "   u'ego',\n",
       "   u'huge',\n",
       "   u'ego',\n",
       "   u'love',\n",
       "   u'big',\n",
       "   u'ego',\n",
       "   u'much',\n",
       "   u'walk',\n",
       "   u'like',\n",
       "   u'cause',\n",
       "   u'back',\n",
       "   u'ego',\n",
       "   u'big',\n",
       "   u'must',\n",
       "   u'admit',\n",
       "   u'got',\n",
       "   u'every',\n",
       "   u'reason',\n",
       "   u'feel',\n",
       "   u'like',\n",
       "   u'm',\n",
       "   u'bitch',\n",
       "   u'ego',\n",
       "   u'strong',\n",
       "   u'ain',\n",
       "   u'know',\n",
       "   u'need',\n",
       "   u'beat',\n",
       "   u'sing',\n",
       "   u'piano'])]"
      ]
     },
     "execution_count": 8,
     "metadata": {},
     "output_type": "execute_result"
    }
   ],
   "source": [
    "\n",
    "# get rid of special character and split, then tokenize\n",
    "raw_to_token = raw_df.select('index','lyrics').rdd.map(lambda x: (x[0],re.sub(r\"[^a-zA-Z0-9]+\", ' ', x[1]).split(\" \") ))\\\n",
    ".map(lambda x: (x[0],  tokenize(' '.join(x[1])) ))\n",
    "raw_to_token.take(1)"
   ]
  },
  {
   "cell_type": "code",
   "execution_count": 9,
   "metadata": {
    "collapsed": true
   },
   "outputs": [],
   "source": [
    "# compute IDFs \n",
    "idfsWeights = idfs(raw_to_token).collectAsMap()\n",
    "# seems that 2.2 doesn't need broadcast??\n",
    "# idfsBroadcast = spark.broadcast(idfsWeights)"
   ]
  },
  {
   "cell_type": "code",
   "execution_count": 10,
   "metadata": {
    "collapsed": true
   },
   "outputs": [],
   "source": [
    "# compute tf-idf value\n",
    "WeightsRDD = raw_to_token.map(lambda x: (x[0], tfidf(x[1], idfsWeights)))"
   ]
  },
  {
   "cell_type": "code",
   "execution_count": 9,
   "metadata": {},
   "outputs": [
    {
     "name": "stderr",
     "output_type": "stream",
     "text": [
      "ERROR:root:Exception while sending command.\n",
      "Traceback (most recent call last):\n",
      "  File \"/home/data/khuangaf/miniconda2/envs/py27/lib/python2.7/site-packages/py4j/java_gateway.py\", line 883, in send_command\n",
      "    response = connection.send_command(command)\n",
      "  File \"/home/data/khuangaf/miniconda2/envs/py27/lib/python2.7/site-packages/py4j/java_gateway.py\", line 1040, in send_command\n",
      "    \"Error while receiving\", e, proto.ERROR_ON_RECEIVE)\n",
      "Py4JNetworkError: Error while receiving\n"
     ]
    },
    {
     "name": "stdout",
     "output_type": "stream",
     "text": [
      "----------------------------------------\n",
      "Exception happened during processing of request from ('127.0.0.1', 38538)"
     ]
    },
    {
     "name": "stderr",
     "output_type": "stream",
     "text": [
      "Traceback (most recent call last):\n",
      "  File \"/home/data/khuangaf/miniconda2/envs/py27/lib/python2.7/SocketServer.py\", line 290, in _handle_request_noblock\n",
      "    self.process_request(request, client_address)\n",
      "  File \"/home/data/khuangaf/miniconda2/envs/py27/lib/python2.7/SocketServer.py\", line 318, in process_request\n",
      "    self.finish_request(request, client_address)\n",
      "  File \"/home/data/khuangaf/miniconda2/envs/py27/lib/python2.7/SocketServer.py\", line 331, in finish_request\n",
      "    self.RequestHandlerClass(request, client_address, self)\n",
      "ERROR:py4j.java_gateway:An error occurred while trying to connect to the Java server (127.0.0.1:35867)\n",
      "Traceback (most recent call last):\n",
      "  File \"/home/data/khuangaf/miniconda2/envs/py27/lib/python2.7/site-packages/py4j/java_gateway.py\", line 963, in start\n",
      "    self.socket.connect((self.address, self.port))\n",
      "  File \"/home/data/khuangaf/miniconda2/envs/py27/lib/python2.7/socket.py\", line 228, in meth\n",
      "    return getattr(self._sock,name)(*args)\n",
      "error: [Errno 111] Connection refused\n",
      "  File \"/home/data/khuangaf/miniconda2/envs/py27/lib/python2.7/SocketServer.py\", line 652, in __init__\n",
      "    self.handle()\n"
     ]
    },
    {
     "name": "stdout",
     "output_type": "stream",
     "text": [
      "\n",
      "----------------------------------------\n"
     ]
    },
    {
     "name": "stderr",
     "output_type": "stream",
     "text": [
      "  File \"/home/data/khuangaf/miniconda2/envs/py27/lib/python2.7/site-packages/pyspark/accumulators.py\", line 235, in handle\n",
      "    num_updates = read_int(self.rfile)\n",
      "  File \"/home/data/khuangaf/miniconda2/envs/py27/lib/python2.7/site-packages/pyspark/serializers.py\", line 577, in read_int\n",
      "    raise EOFError\n",
      "EOFError\n"
     ]
    },
    {
     "ename": "Py4JNetworkError",
     "evalue": "An error occurred while trying to connect to the Java server (127.0.0.1:35867)",
     "output_type": "error",
     "traceback": [
      "\u001b[0;31m---------------------------------------------------------------------------\u001b[0m",
      "\u001b[0;31mPy4JNetworkError\u001b[0m                          Traceback (most recent call last)",
      "\u001b[0;32m/home/data/khuangaf/miniconda2/envs/py27/lib/python2.7/site-packages/IPython/core/interactiveshell.pyc\u001b[0m in \u001b[0;36mrun_code\u001b[0;34m(self, code_obj, result)\u001b[0m\n\u001b[1;32m   2897\u001b[0m             \u001b[0;32mif\u001b[0m \u001b[0mresult\u001b[0m \u001b[0;32mis\u001b[0m \u001b[0;32mnot\u001b[0m \u001b[0mNone\u001b[0m\u001b[0;34m:\u001b[0m\u001b[0;34m\u001b[0m\u001b[0m\n\u001b[1;32m   2898\u001b[0m                 \u001b[0mresult\u001b[0m\u001b[0;34m.\u001b[0m\u001b[0merror_in_exec\u001b[0m \u001b[0;34m=\u001b[0m \u001b[0msys\u001b[0m\u001b[0;34m.\u001b[0m\u001b[0mexc_info\u001b[0m\u001b[0;34m(\u001b[0m\u001b[0;34m)\u001b[0m\u001b[0;34m[\u001b[0m\u001b[0;36m1\u001b[0m\u001b[0;34m]\u001b[0m\u001b[0;34m\u001b[0m\u001b[0m\n\u001b[0;32m-> 2899\u001b[0;31m             \u001b[0mself\u001b[0m\u001b[0;34m.\u001b[0m\u001b[0mshowtraceback\u001b[0m\u001b[0;34m(\u001b[0m\u001b[0;34m)\u001b[0m\u001b[0;34m\u001b[0m\u001b[0m\n\u001b[0m\u001b[1;32m   2900\u001b[0m         \u001b[0;32melse\u001b[0m\u001b[0;34m:\u001b[0m\u001b[0;34m\u001b[0m\u001b[0m\n\u001b[1;32m   2901\u001b[0m             \u001b[0moutflag\u001b[0m \u001b[0;34m=\u001b[0m \u001b[0;36m0\u001b[0m\u001b[0;34m\u001b[0m\u001b[0m\n",
      "\u001b[0;32m/home/data/khuangaf/miniconda2/envs/py27/lib/python2.7/site-packages/IPython/core/interactiveshell.pyc\u001b[0m in \u001b[0;36mshowtraceback\u001b[0;34m(self, exc_tuple, filename, tb_offset, exception_only)\u001b[0m\n\u001b[1;32m   1826\u001b[0m                                             value, tb, tb_offset=tb_offset)\n\u001b[1;32m   1827\u001b[0m \u001b[0;34m\u001b[0m\u001b[0m\n\u001b[0;32m-> 1828\u001b[0;31m                     \u001b[0mself\u001b[0m\u001b[0;34m.\u001b[0m\u001b[0m_showtraceback\u001b[0m\u001b[0;34m(\u001b[0m\u001b[0metype\u001b[0m\u001b[0;34m,\u001b[0m \u001b[0mvalue\u001b[0m\u001b[0;34m,\u001b[0m \u001b[0mstb\u001b[0m\u001b[0;34m)\u001b[0m\u001b[0;34m\u001b[0m\u001b[0m\n\u001b[0m\u001b[1;32m   1829\u001b[0m                     \u001b[0;32mif\u001b[0m \u001b[0mself\u001b[0m\u001b[0;34m.\u001b[0m\u001b[0mcall_pdb\u001b[0m\u001b[0;34m:\u001b[0m\u001b[0;34m\u001b[0m\u001b[0m\n\u001b[1;32m   1830\u001b[0m                         \u001b[0;31m# drop into debugger\u001b[0m\u001b[0;34m\u001b[0m\u001b[0;34m\u001b[0m\u001b[0m\n",
      "\u001b[0;32m/home/data/khuangaf/miniconda2/envs/py27/lib/python2.7/site-packages/ipykernel/zmqshell.pyc\u001b[0m in \u001b[0;36m_showtraceback\u001b[0;34m(self, etype, evalue, stb)\u001b[0m\n\u001b[1;32m    541\u001b[0m             \u001b[0;34mu'traceback'\u001b[0m \u001b[0;34m:\u001b[0m \u001b[0mstb\u001b[0m\u001b[0;34m,\u001b[0m\u001b[0;34m\u001b[0m\u001b[0m\n\u001b[1;32m    542\u001b[0m             \u001b[0;34mu'ename'\u001b[0m \u001b[0;34m:\u001b[0m \u001b[0municode_type\u001b[0m\u001b[0;34m(\u001b[0m\u001b[0metype\u001b[0m\u001b[0;34m.\u001b[0m\u001b[0m__name__\u001b[0m\u001b[0;34m)\u001b[0m\u001b[0;34m,\u001b[0m\u001b[0;34m\u001b[0m\u001b[0m\n\u001b[0;32m--> 543\u001b[0;31m             \u001b[0;34mu'evalue'\u001b[0m \u001b[0;34m:\u001b[0m \u001b[0mpy3compat\u001b[0m\u001b[0;34m.\u001b[0m\u001b[0msafe_unicode\u001b[0m\u001b[0;34m(\u001b[0m\u001b[0mevalue\u001b[0m\u001b[0;34m)\u001b[0m\u001b[0;34m,\u001b[0m\u001b[0;34m\u001b[0m\u001b[0m\n\u001b[0m\u001b[1;32m    544\u001b[0m         }\n\u001b[1;32m    545\u001b[0m \u001b[0;34m\u001b[0m\u001b[0m\n",
      "\u001b[0;32m/home/data/khuangaf/miniconda2/envs/py27/lib/python2.7/site-packages/ipython_genutils/py3compat.pyc\u001b[0m in \u001b[0;36msafe_unicode\u001b[0;34m(e)\u001b[0m\n\u001b[1;32m     63\u001b[0m     \"\"\"\n\u001b[1;32m     64\u001b[0m     \u001b[0;32mtry\u001b[0m\u001b[0;34m:\u001b[0m\u001b[0;34m\u001b[0m\u001b[0m\n\u001b[0;32m---> 65\u001b[0;31m         \u001b[0;32mreturn\u001b[0m \u001b[0municode_type\u001b[0m\u001b[0;34m(\u001b[0m\u001b[0me\u001b[0m\u001b[0;34m)\u001b[0m\u001b[0;34m\u001b[0m\u001b[0m\n\u001b[0m\u001b[1;32m     66\u001b[0m     \u001b[0;32mexcept\u001b[0m \u001b[0mUnicodeError\u001b[0m\u001b[0;34m:\u001b[0m\u001b[0;34m\u001b[0m\u001b[0m\n\u001b[1;32m     67\u001b[0m         \u001b[0;32mpass\u001b[0m\u001b[0;34m\u001b[0m\u001b[0m\n",
      "\u001b[0;32m/home/data/khuangaf/miniconda2/envs/py27/lib/python2.7/site-packages/py4j/protocol.pyc\u001b[0m in \u001b[0;36m__str__\u001b[0;34m(self)\u001b[0m\n\u001b[1;32m    418\u001b[0m     \u001b[0;32mdef\u001b[0m \u001b[0m__str__\u001b[0m\u001b[0;34m(\u001b[0m\u001b[0mself\u001b[0m\u001b[0;34m)\u001b[0m\u001b[0;34m:\u001b[0m\u001b[0;34m\u001b[0m\u001b[0m\n\u001b[1;32m    419\u001b[0m         \u001b[0mgateway_client\u001b[0m \u001b[0;34m=\u001b[0m \u001b[0mself\u001b[0m\u001b[0;34m.\u001b[0m\u001b[0mjava_exception\u001b[0m\u001b[0;34m.\u001b[0m\u001b[0m_gateway_client\u001b[0m\u001b[0;34m\u001b[0m\u001b[0m\n\u001b[0;32m--> 420\u001b[0;31m         \u001b[0manswer\u001b[0m \u001b[0;34m=\u001b[0m \u001b[0mgateway_client\u001b[0m\u001b[0;34m.\u001b[0m\u001b[0msend_command\u001b[0m\u001b[0;34m(\u001b[0m\u001b[0mself\u001b[0m\u001b[0;34m.\u001b[0m\u001b[0mexception_cmd\u001b[0m\u001b[0;34m)\u001b[0m\u001b[0;34m\u001b[0m\u001b[0m\n\u001b[0m\u001b[1;32m    421\u001b[0m         \u001b[0mreturn_value\u001b[0m \u001b[0;34m=\u001b[0m \u001b[0mget_return_value\u001b[0m\u001b[0;34m(\u001b[0m\u001b[0manswer\u001b[0m\u001b[0;34m,\u001b[0m \u001b[0mgateway_client\u001b[0m\u001b[0;34m,\u001b[0m \u001b[0mNone\u001b[0m\u001b[0;34m,\u001b[0m \u001b[0mNone\u001b[0m\u001b[0;34m)\u001b[0m\u001b[0;34m\u001b[0m\u001b[0m\n\u001b[1;32m    422\u001b[0m         \u001b[0;32mreturn\u001b[0m \u001b[0;34m\"{0}: {1}\"\u001b[0m\u001b[0;34m.\u001b[0m\u001b[0mformat\u001b[0m\u001b[0;34m(\u001b[0m\u001b[0mself\u001b[0m\u001b[0;34m.\u001b[0m\u001b[0merrmsg\u001b[0m\u001b[0;34m,\u001b[0m \u001b[0mreturn_value\u001b[0m\u001b[0;34m)\u001b[0m\u001b[0;34m\u001b[0m\u001b[0m\n",
      "\u001b[0;32m/home/data/khuangaf/miniconda2/envs/py27/lib/python2.7/site-packages/py4j/java_gateway.pyc\u001b[0m in \u001b[0;36msend_command\u001b[0;34m(self, command, retry, binary)\u001b[0m\n\u001b[1;32m    879\u001b[0m          \u001b[0;32mif\u001b[0m \u001b[0;34m`\u001b[0m\u001b[0mbinary\u001b[0m\u001b[0;34m`\u001b[0m \u001b[0;32mis\u001b[0m \u001b[0;34m`\u001b[0m\u001b[0mTrue\u001b[0m\u001b[0;34m`\u001b[0m\u001b[0;34m.\u001b[0m\u001b[0;34m\u001b[0m\u001b[0m\n\u001b[1;32m    880\u001b[0m         \"\"\"\n\u001b[0;32m--> 881\u001b[0;31m         \u001b[0mconnection\u001b[0m \u001b[0;34m=\u001b[0m \u001b[0mself\u001b[0m\u001b[0;34m.\u001b[0m\u001b[0m_get_connection\u001b[0m\u001b[0;34m(\u001b[0m\u001b[0;34m)\u001b[0m\u001b[0;34m\u001b[0m\u001b[0m\n\u001b[0m\u001b[1;32m    882\u001b[0m         \u001b[0;32mtry\u001b[0m\u001b[0;34m:\u001b[0m\u001b[0;34m\u001b[0m\u001b[0m\n\u001b[1;32m    883\u001b[0m             \u001b[0mresponse\u001b[0m \u001b[0;34m=\u001b[0m \u001b[0mconnection\u001b[0m\u001b[0;34m.\u001b[0m\u001b[0msend_command\u001b[0m\u001b[0;34m(\u001b[0m\u001b[0mcommand\u001b[0m\u001b[0;34m)\u001b[0m\u001b[0;34m\u001b[0m\u001b[0m\n",
      "\u001b[0;32m/home/data/khuangaf/miniconda2/envs/py27/lib/python2.7/site-packages/py4j/java_gateway.pyc\u001b[0m in \u001b[0;36m_get_connection\u001b[0;34m(self)\u001b[0m\n\u001b[1;32m    827\u001b[0m             \u001b[0mconnection\u001b[0m \u001b[0;34m=\u001b[0m \u001b[0mself\u001b[0m\u001b[0;34m.\u001b[0m\u001b[0mdeque\u001b[0m\u001b[0;34m.\u001b[0m\u001b[0mpop\u001b[0m\u001b[0;34m(\u001b[0m\u001b[0;34m)\u001b[0m\u001b[0;34m\u001b[0m\u001b[0m\n\u001b[1;32m    828\u001b[0m         \u001b[0;32mexcept\u001b[0m \u001b[0mIndexError\u001b[0m\u001b[0;34m:\u001b[0m\u001b[0;34m\u001b[0m\u001b[0m\n\u001b[0;32m--> 829\u001b[0;31m             \u001b[0mconnection\u001b[0m \u001b[0;34m=\u001b[0m \u001b[0mself\u001b[0m\u001b[0;34m.\u001b[0m\u001b[0m_create_connection\u001b[0m\u001b[0;34m(\u001b[0m\u001b[0;34m)\u001b[0m\u001b[0;34m\u001b[0m\u001b[0m\n\u001b[0m\u001b[1;32m    830\u001b[0m         \u001b[0;32mreturn\u001b[0m \u001b[0mconnection\u001b[0m\u001b[0;34m\u001b[0m\u001b[0m\n\u001b[1;32m    831\u001b[0m \u001b[0;34m\u001b[0m\u001b[0m\n",
      "\u001b[0;32m/home/data/khuangaf/miniconda2/envs/py27/lib/python2.7/site-packages/py4j/java_gateway.pyc\u001b[0m in \u001b[0;36m_create_connection\u001b[0;34m(self)\u001b[0m\n\u001b[1;32m    833\u001b[0m         connection = GatewayConnection(\n\u001b[1;32m    834\u001b[0m             self.gateway_parameters, self.gateway_property)\n\u001b[0;32m--> 835\u001b[0;31m         \u001b[0mconnection\u001b[0m\u001b[0;34m.\u001b[0m\u001b[0mstart\u001b[0m\u001b[0;34m(\u001b[0m\u001b[0;34m)\u001b[0m\u001b[0;34m\u001b[0m\u001b[0m\n\u001b[0m\u001b[1;32m    836\u001b[0m         \u001b[0;32mreturn\u001b[0m \u001b[0mconnection\u001b[0m\u001b[0;34m\u001b[0m\u001b[0m\n\u001b[1;32m    837\u001b[0m \u001b[0;34m\u001b[0m\u001b[0m\n",
      "\u001b[0;32m/home/data/khuangaf/miniconda2/envs/py27/lib/python2.7/site-packages/py4j/java_gateway.pyc\u001b[0m in \u001b[0;36mstart\u001b[0;34m(self)\u001b[0m\n\u001b[1;32m    968\u001b[0m                 \u001b[0;34m\"server ({0}:{1})\"\u001b[0m\u001b[0;34m.\u001b[0m\u001b[0mformat\u001b[0m\u001b[0;34m(\u001b[0m\u001b[0mself\u001b[0m\u001b[0;34m.\u001b[0m\u001b[0maddress\u001b[0m\u001b[0;34m,\u001b[0m \u001b[0mself\u001b[0m\u001b[0;34m.\u001b[0m\u001b[0mport\u001b[0m\u001b[0;34m)\u001b[0m\u001b[0;34m\u001b[0m\u001b[0m\n\u001b[1;32m    969\u001b[0m             \u001b[0mlogger\u001b[0m\u001b[0;34m.\u001b[0m\u001b[0mexception\u001b[0m\u001b[0;34m(\u001b[0m\u001b[0mmsg\u001b[0m\u001b[0;34m)\u001b[0m\u001b[0;34m\u001b[0m\u001b[0m\n\u001b[0;32m--> 970\u001b[0;31m             \u001b[0;32mraise\u001b[0m \u001b[0mPy4JNetworkError\u001b[0m\u001b[0;34m(\u001b[0m\u001b[0mmsg\u001b[0m\u001b[0;34m,\u001b[0m \u001b[0me\u001b[0m\u001b[0;34m)\u001b[0m\u001b[0;34m\u001b[0m\u001b[0m\n\u001b[0m\u001b[1;32m    971\u001b[0m \u001b[0;34m\u001b[0m\u001b[0m\n\u001b[1;32m    972\u001b[0m     \u001b[0;32mdef\u001b[0m \u001b[0mclose\u001b[0m\u001b[0;34m(\u001b[0m\u001b[0mself\u001b[0m\u001b[0;34m,\u001b[0m \u001b[0mreset\u001b[0m\u001b[0;34m=\u001b[0m\u001b[0mFalse\u001b[0m\u001b[0;34m)\u001b[0m\u001b[0;34m:\u001b[0m\u001b[0;34m\u001b[0m\u001b[0m\n",
      "\u001b[0;31mPy4JNetworkError\u001b[0m: An error occurred while trying to connect to the Java server (127.0.0.1:35867)"
     ]
    }
   ],
   "source": [
    "import numpy as np\n",
    "#select the top 1000 words as dictionary for vectorization\n",
    "NUM_FEATURES = 1000\n",
    "def storeVocablist(raw_to_token):\n",
    "    \n",
    "    tokenTF = tf(raw_to_token.flatMap(lambda x: x[1]).collect())\n",
    "    vocabList = np.array(sorted(tokenTF, key=tokenTF.get, reverse=True)[:NUM_FEATURES ])\n",
    "    np.save('vocabList',vocabList)\n",
    "storeVocablist(raw_to_token)"
   ]
  },
  {
   "cell_type": "code",
   "execution_count": 13,
   "metadata": {
    "collapsed": true
   },
   "outputs": [],
   "source": [
    "# store tf-idf to parquet\n",
    "from pyspark.sql.types import Row\n",
    "def storeTFIDF(WeightsRDD):\n",
    "    WeightsRDD.map(lambda x: Row(**{'index': x[0], 'song': x[1]})).toDF().write.parquet(\"tfidf.parquet\")\n",
    "\n",
    "storeTFIDF(WeightsRDD)"
   ]
  },
  {
   "cell_type": "code",
   "execution_count": 23,
   "metadata": {},
   "outputs": [],
   "source": [
    "from pyspark.sql.types import Row\n",
    "\n",
    "def storeTFIDFJSON(WeightsRDD):\n",
    "    WeightsRDD.map(lambda x: Row(**{'index': x[0], 'song': x[1]})).toDF().write.json('tfidf.json')\n",
    "storeTFIDFJSON(WeightsRDD)"
   ]
  }
 ],
 "metadata": {
  "kernelspec": {
   "display_name": "Python 2",
   "language": "python",
   "name": "python2"
  },
  "language_info": {
   "codemirror_mode": {
    "name": "ipython",
    "version": 2
   },
   "file_extension": ".py",
   "mimetype": "text/x-python",
   "name": "python",
   "nbconvert_exporter": "python",
   "pygments_lexer": "ipython2",
   "version": "2.7.14"
  }
 },
 "nbformat": 4,
 "nbformat_minor": 2
}
