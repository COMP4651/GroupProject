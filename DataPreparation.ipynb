{
 "cells": [
  {
   "cell_type": "code",
   "execution_count": 34,
   "metadata": {
    "collapsed": false,
    "scrolled": true
   },
   "outputs": [
    {
     "name": "stdout",
     "output_type": "stream",
     "text": [
      "artist          genre index lyrics               song                 year\n",
      "beyonce-knowles Pop   0     Oh baby, how you ... ego-remix            2009\n",
      "beyonce-knowles Pop   1     playin' everythin... then-tell-me         2009\n",
      "beyonce-knowles Pop   2     If you search\n",
      "For... honesty              2009\n",
      "beyonce-knowles Pop   3     Oh oh oh I, oh oh... you-are-my-rock      2009\n",
      "beyonce-knowles Pop   4     Party the people,... black-culture        2009\n",
      "beyonce-knowles Pop   5     I heard\n",
      "Church be... all-i-could-do-wa... 2009\n",
      "beyonce-knowles Pop   6     This is just anot... once-in-a-lifetime   2009\n",
      "beyonce-knowles Pop   7     Waiting, waiting,... waiting              2009\n",
      "beyonce-knowles Pop   8     [Verse 1:]\n",
      "I read... slow-love            2009\n",
      "beyonce-knowles Pop   9     N-n-now, honey\n",
      "Yo... why-don-t-you-lov... 2009\n",
      "beyonce-knowles Pop   10    I lay alone awake... save-the-hero        2009\n",
      "beyonce-knowles Pop   11    Hello hello baby ... telephone            2009\n",
      "beyonce-knowles Pop   12    Feels like I'm lo... ice-cream-truck      2009\n",
      "beyonce-knowles Pop   13    Youre everything ... no-broken-hearted... 2009\n",
      "beyonce-knowles Pop   14    I gotta give up\n",
      "t... control              2009\n",
      "beyonce-knowles Pop   15    It really hurts t... i-m-alone-now        2009\n",
      "beyonce-knowles Pop   16    You're bad for me... poison               2009\n",
      "beyonce-knowles Pop   17    [Chorus:]\n",
      "I'm a w... world-wide-women     2007\n",
      "beyonce-knowles Pop   18    Ay\n",
      "Ay\n",
      "Ay (Nobody ... beautiful-liar       2007\n",
      "beyonce-knowles Pop   19    Ay! Ay!\n",
      "(Nobody l... beautiful-liar-sp... 2007\n"
     ]
    }
   ],
   "source": [
    "from pyspark.sql.types import StringType\n",
    "from pyspark import SQLContext\n",
    "from collections import namedtuple\n",
    "sqlContext = SQLContext(sc)\n",
    "\n",
    "Employee_rdd = sc.textFile(\"data/lyrics.json\")\n",
    "\n",
    "Employee_df = sqlContext.jsonFile(\"data/lyrics.json\")\n",
    "Employee_df.show()"
   ]
  },
  {
   "cell_type": "code",
   "execution_count": null,
   "metadata": {
    "collapsed": true
   },
   "outputs": [],
   "source": []
  }
 ],
 "metadata": {
  "kernelspec": {
   "display_name": "Python 2",
   "language": "python",
   "name": "python2"
  },
  "language_info": {
   "codemirror_mode": {
    "name": "ipython",
    "version": 2
   },
   "file_extension": ".py",
   "mimetype": "text/x-python",
   "name": "python",
   "nbconvert_exporter": "python",
   "pygments_lexer": "ipython2",
   "version": "2.7.6"
  }
 },
 "nbformat": 4,
 "nbformat_minor": 0
}
